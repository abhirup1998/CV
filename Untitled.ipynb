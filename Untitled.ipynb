{
 "cells": [
  {
   "cell_type": "code",
   "execution_count": 1,
   "metadata": {
    "collapsed": true
   },
   "outputs": [],
   "source": [
    "import tensorflow as tf\n",
    "import numpy as np"
   ]
  },
  {
   "cell_type": "code",
   "execution_count": 6,
   "metadata": {},
   "outputs": [],
   "source": [
    "def Network(Input):\n",
    "    Relu = tf.nn.relu\n",
    "    with tf.name_scope('Network'):\n",
    "        conv1 = Conv2D(Input, filters=64, kernel_size=3, strides=1, padding=1, activation=Relu, name='conv_1')\n",
    "        pool1 = mPool2D(conv1, pool_size=2, strides=2, name='pool_1')\n",
    "        conv2 = Conv2D(pool1, filters=128, kernel_size=3, strides=1, padding=1, activation=Relu, name='conv_2')\n",
    "        pool2 = mPool2d(conv2, pool_size=2, strides=2, name='pool_2')\n",
    "        conv3 = Conv2D(pool2, filters=256, kernel_size=3, strides=1, padding=1, activation=Relu, name='conv_3')\n",
    "        conv4 = Conv2D(conv3, filters=256, kernel_size=3, strides=1, padding=1, activation=Relu, name='conv_4')\n",
    "        pool3 = mPool2d(conv4, pool_size=(1,2), strides=2, name='pool_3')\n",
    "        conv5 = Conv2D(pool3, filters=512, kernel_size=3, strides=1, padding=1, activation=Relu, name='conv_5')\n",
    "        batch1 = tf.layers.batch_normalization(conv5)\n",
    "        conv6 = Conv2D(batch1, filters=512, kernel_size=3, strides=1, padding=1, activation=Relu, name='conv_6')\n",
    "        batch2 = tf.layers.batch_normalization(conv6)\n",
    "        pool4 = mPool2D(batch2, pool_size=(1,2), strides=2, name='pool_4')\n",
    "        conv7 = Conv2D(pool3, filters=512, kernel_size=2, strides=1, padding=1, activation=Relu, name='conv_7')\n",
    "    return conv7"
   ]
  },
  {
   "cell_type": "code",
   "execution_count": 5,
   "metadata": {
    "collapsed": true
   },
   "outputs": [],
   "source": [
    "Conv2D = tf.layers.conv2d\n",
    "mPool2D = tf.layers.max_pooling2d"
   ]
  },
  {
   "cell_type": "code",
   "execution_count": 22,
   "metadata": {
    "collapsed": true
   },
   "outputs": [],
   "source": [
    "Input = tf.placeholder(dtype=tf.float32, shape=[32, 100, 100, 1])\n",
    "Label = tf.placeholder(dtype=tf.float32, shape=[None, 10])"
   ]
  },
  {
   "cell_type": "code",
   "execution_count": 59,
   "metadata": {
    "scrolled": true
   },
   "outputs": [
    {
     "name": "stdout",
     "output_type": "stream",
     "text": [
      "Tensor(\"conv_1/Relu:0\", shape=(32, 32, 100, 64), dtype=float32)\n",
      "Tensor(\"pool_1/MaxPool:0\", shape=(32, 16, 50, 64), dtype=float32)\n",
      "Tensor(\"conv_2/Relu:0\", shape=(32, 16, 50, 128), dtype=float32)\n",
      "Tensor(\"pool_2/MaxPool:0\", shape=(32, 8, 25, 128), dtype=float32)\n",
      "Tensor(\"conv_3/Relu:0\", shape=(32, 8, 25, 256), dtype=float32)\n",
      "Tensor(\"conv_4/Relu:0\", shape=(32, 8, 25, 256), dtype=float32)\n",
      "Tensor(\"pool_3/MaxPool:0\", shape=(32, 4, 25, 256), dtype=float32)\n",
      "Tensor(\"conv_5/Relu:0\", shape=(32, 4, 25, 512), dtype=float32)\n",
      "Tensor(\"batch_normalization/batchnorm/add_1:0\", shape=(32, 4, 25, 512), dtype=float32)\n",
      "Tensor(\"conv_6/Relu:0\", shape=(32, 4, 25, 512), dtype=float32)\n",
      "Tensor(\"batch_normalization_2/batchnorm/add_1:0\", shape=(32, 4, 25, 512), dtype=float32)\n",
      "Tensor(\"pool_4/MaxPool:0\", shape=(32, 2, 25, 512), dtype=float32)\n",
      "Tensor(\"conv_7/Relu:0\", shape=(32, 1, 24, 512), dtype=float32)\n"
     ]
    }
   ],
   "source": [
    "\n",
    "# Relu = tf.nn.relu\n",
    "tf.reset_default_graph()\n",
    "Relu = tf.nn.relu\n",
    "Conv2D = tf.layers.conv2d\n",
    "mPool2D = tf.layers.max_pooling2d\n",
    "Input = tf.placeholder(dtype=tf.float32, shape=[32, 32, 100, 1])\n",
    "conv1 = Conv2D(Input, filters=64, kernel_size=3, strides=1, padding='same', activation=Relu, name='conv_1')\n",
    "print(conv1)\n",
    "pool1 = mPool2D(conv1, pool_size=2, strides=2, name='pool_1')\n",
    "print(pool1)\n",
    "conv2 = Conv2D(pool1, filters=128, kernel_size=3, strides=1, padding='same', activation=Relu, name='conv_2')\n",
    "print(conv2)\n",
    "pool2 = mPool2D(conv2, pool_size=2, strides=2, name='pool_2')\n",
    "print(pool2)\n",
    "conv3 = Conv2D(pool2, filters=256, kernel_size=3, strides=1, padding='same', activation=Relu, name='conv_3')\n",
    "print(conv3)\n",
    "conv4 = Conv2D(conv3, filters=256, kernel_size=3, strides=1, padding='same', activation=Relu, name='conv_4')\n",
    "print(conv4)\n",
    "pool3 = mPool2D(conv4, pool_size=(2,2), strides=(2,1), name='pool_3', \n",
    "                padding='same')\n",
    "print(pool3)\n",
    "conv5 = Conv2D(pool3, filters=512, kernel_size=3, strides=1, padding='same', activation=Relu, name='conv_5')\n",
    "print(conv5)\n",
    "batch1 = tf.layers.batch_normalization(conv5)\n",
    "print(batch1)\n",
    "conv6 = Conv2D(batch1, filters=512, kernel_size=3, strides=1, padding='same', activation=Relu, name='conv_6')\n",
    "print(conv6)\n",
    "batch2 = tf.layers.batch_normalization(conv6)\n",
    "print(batch2)\n",
    "pool4 = mPool2D(batch2, pool_size=(2,2), strides=(2,1), name='pool_4',\n",
    "               padding='same')\n",
    "print(pool4)\n",
    "conv7 = Conv2D(pool4, filters=512, kernel_size=2, strides=1, padding='valid', activation=Relu, name='conv_7')\n",
    "print(conv7)"
   ]
  },
  {
   "cell_type": "code",
   "execution_count": 33,
   "metadata": {},
   "outputs": [
    {
     "name": "stdout",
     "output_type": "stream",
     "text": [
      "Tensor(\"conv_2/Relu:0\", shape=(32, 32, 100, 64), dtype=float32)\n",
      "Tensor(\"pool_1/MaxPool:0\", shape=(32, 16, 50, 64), dtype=float32)\n"
     ]
    }
   ],
   "source": [
    "print(conv1)\n",
    "pool1 = mPool2D(conv1, pool_size=2, strides=2, name='pool_1')\n",
    "print(pool1)"
   ]
  },
  {
   "cell_type": "code",
   "execution_count": 41,
   "metadata": {},
   "outputs": [
    {
     "data": {
      "text/plain": [
       "True"
      ]
     },
     "execution_count": 41,
     "metadata": {},
     "output_type": "execute_result"
    }
   ],
   "source": [
    "x = tf.constant([[1., 2., 3.],\n",
    "                 [4., 5., 6.]])\n",
    "\n",
    "x = tf.reshape(x, [1, 2, 3, 1])  # give a shape accepted by tf.nn.max_pool\n",
    "\n",
    "valid_pad = tf.nn.max_pool(x, [1, 2, 2, 1], [1, 2, 2, 1], padding='VALID')\n",
    "same_pad = tf.nn.max_pool(x, [1, 2, 2, 1], [1, 2, 2, 1], padding='SAME')\n",
    "\n",
    "valid_pad.get_shape() == [1, 1, 1, 1]  # valid_pad is [5.]\n",
    "same_pad.get_shape() == [1, 1, 2, 1]   # same_pad is  [5., 6.]"
   ]
  }
 ],
 "metadata": {
  "kernelspec": {
   "display_name": "Python 3",
   "language": "python",
   "name": "python3"
  },
  "language_info": {
   "codemirror_mode": {
    "name": "ipython",
    "version": 3
   },
   "file_extension": ".py",
   "mimetype": "text/x-python",
   "name": "python",
   "nbconvert_exporter": "python",
   "pygments_lexer": "ipython3",
   "version": "3.6.3"
  }
 },
 "nbformat": 4,
 "nbformat_minor": 2
}

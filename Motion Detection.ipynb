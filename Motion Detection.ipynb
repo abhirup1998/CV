{
 "cells": [
  {
   "cell_type": "markdown",
   "metadata": {},
   "source": [
    "# Basic Motion Detection "
   ]
  },
  {
   "cell_type": "code",
   "execution_count": 1,
   "metadata": {
    "collapsed": true
   },
   "outputs": [],
   "source": [
    "import cv2\n",
    "import imutils\n",
    "import time\n",
    "import datetime"
   ]
  },
  {
   "cell_type": "code",
   "execution_count": 3,
   "metadata": {
    "scrolled": true
   },
   "outputs": [
    {
     "data": {
      "text/plain": [
       "'0.4.5'"
      ]
     },
     "execution_count": 3,
     "metadata": {},
     "output_type": "execute_result"
    }
   ],
   "source": [
    "imutils.__version__"
   ]
  },
  {
   "cell_type": "code",
   "execution_count": 22,
   "metadata": {
    "collapsed": true
   },
   "outputs": [],
   "source": [
    "# cap = cv2.VideoCapture('/home/abhirup/Downloads/walking_man.mp4')\n",
    "cap = cv2.VideoCapture(0)"
   ]
  },
  {
   "cell_type": "code",
   "execution_count": 2,
   "metadata": {
    "collapsed": true
   },
   "outputs": [],
   "source": [
    "min_area = 2000"
   ]
  },
  {
   "cell_type": "code",
   "execution_count": 5,
   "metadata": {},
   "outputs": [],
   "source": [
    "cap = cv2.VideoCapture(0)\n",
    "firstframe = None\n",
    "while (True):\n",
    "    ret, frame = cap.read()\n",
    "    text = 'Unoccupied'\n",
    "    if not ret: break\n",
    "    \n",
    "#     frame = imutils.resize(frame, width=500)\n",
    "    gray = cv2.cvtColor(frame, cv2.COLOR_BGR2GRAY)##preprocessing\n",
    "                                                ##for motion analysis\n",
    "    gray = cv2.GaussianBlur(gray, (21,21), 0)\n",
    "    if firstframe is None:\n",
    "        firstframe = gray\n",
    "        continue\n",
    "      ##detecting changes\n",
    "    frame_delta = cv2.absdiff(firstframe, gray)\n",
    "    thresh = cv2.threshold(frame_delta, 25, 255, cv2.THRESH_BINARY)[1]\n",
    "    thresh = cv2.dilate(thresh, None, iterations=2)\n",
    "    _, cnts, _ = cv2.findContours(thresh.copy(), cv2.RETR_EXTERNAL, \n",
    "                               cv2.CHAIN_APPROX_SIMPLE)\n",
    "    \n",
    "    for c in cnts:\n",
    "        if cv2.contourArea(c) < min_area :\n",
    "            continue\n",
    "        \n",
    "        x,y,w,h = cv2.boundingRect(c)\n",
    "        cv2.rectangle(frame, (x,y), (x+w,y+h), (0,255,0), 2)\n",
    "        text = 'Occupied'\n",
    "    cv2.putText(frame, \"Room Status: {}\".format(text), (10, 20),\n",
    "                cv2.FONT_HERSHEY_SIMPLEX, 0.5, (0, 0, 255), 2)\n",
    "    cv2.putText(frame, \n",
    "                datetime.datetime.now().strftime(\"%A %d %B %Y %I:%M:%S%p\"),\n",
    "                (10, frame.shape[0] - 10), \n",
    "                cv2.FONT_HERSHEY_SIMPLEX, 0.35, (0, 0, 255), 1)\n",
    "    \n",
    "    cv2.imshow('Sec Feed', frame)\n",
    "    cv2.imshow('Thresh', thresh)\n",
    "    cv2.imshow('Frame Delta', frame_delta)\n",
    "    \n",
    "    key = cv2.waitKey(1) & 0xFF\n",
    "    if key == ord('q'):\n",
    "        break\n",
    "cap.release()\n",
    "cv2.destroyAllWindows()"
   ]
  },
  {
   "cell_type": "code",
   "execution_count": 3,
   "metadata": {
    "collapsed": true
   },
   "outputs": [],
   "source": [
    "cap.release()"
   ]
  }
 ],
 "metadata": {
  "kernelspec": {
   "display_name": "Python 3",
   "language": "python",
   "name": "python3"
  },
  "language_info": {
   "codemirror_mode": {
    "name": "ipython",
    "version": 3
   },
   "file_extension": ".py",
   "mimetype": "text/x-python",
   "name": "python",
   "nbconvert_exporter": "python",
   "pygments_lexer": "ipython3",
   "version": "3.6.3"
  }
 },
 "nbformat": 4,
 "nbformat_minor": 2
}

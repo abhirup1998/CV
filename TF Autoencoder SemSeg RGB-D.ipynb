{
 "cells": [
  {
   "cell_type": "code",
   "execution_count": 47,
   "metadata": {
    "collapsed": true
   },
   "outputs": [],
   "source": [
    "import tensorflow as tf\n",
    "import numpy as np"
   ]
  },
  {
   "cell_type": "markdown",
   "metadata": {},
   "source": [
    "# Autoencoder Architecture "
   ]
  },
  {
   "cell_type": "markdown",
   "metadata": {},
   "source": [
    "![title](../../../Downloads/autoenc_ass.png)"
   ]
  },
  {
   "cell_type": "markdown",
   "metadata": {},
   "source": [
    "![here](../../../Pictures/Selection_004.png)"
   ]
  },
  {
   "cell_type": "code",
   "execution_count": 33,
   "metadata": {
    "collapsed": true
   },
   "outputs": [],
   "source": [
    "conv2 = tf.layers.conv2d\n",
    "conv2t = tf.layers.conv2d_transpose\n",
    "Relu = tf.nn.relu\n",
    "mpool2 = tf.layers.max_pooling2d\n",
    "final_C = 10"
   ]
  },
  {
   "cell_type": "code",
   "execution_count": null,
   "metadata": {
    "collapsed": true
   },
   "outputs": [],
   "source": [
    "# def autoencoder(input):\n",
    "tf.reset_default_graph()\n",
    "input = tf.placeholder(shape=[None, 224,224,3], dtype=tf.float32)\n",
    "\n",
    "l1 = conv2(input, filters=32, kernel_size=3, strides=2,\n",
    "                padding='SAME', activation=Relu, name='conv_112')\n",
    "print(l1)\n",
    "l2 = conv2(l1, filters=64, kernel_size=3, strides=2,\n",
    "                padding='SAME', activation=Relu, name='conv_56')\n",
    "print(l2)\n",
    "l3 = conv2(l2, filters=128, kernel_size=3, strides=1,\n",
    "                padding='SAME', activation=Relu, name='conv_56.2')\n",
    "print(l3)\n",
    "l4 = conv2(l3, filters=256, kernel_size=3, strides=2,\n",
    "                padding='SAME', activation=Relu, name='conv_28')\n",
    "print(l4)\n",
    "l5 = conv2(l4, filters=512, kernel_size=3, strides=1,\n",
    "                padding='SAME', activation=Relu, name='conv_28.2')\n",
    "print(l5)\n",
    "l6 = conv2(l5, filters=1024, kernel_size=3, strides=2,\n",
    "                padding='SAME', activation=Relu, name='conv_14')\n",
    "print(l6)\n",
    "l7 = conv2(l6, filters=2048, kernel_size=3, strides=2,\n",
    "                padding='SAME', activation=Relu, name='conv_7')\n",
    "print(l7)\n",
    "l8 = conv2t(l7, filters=1024, kernel_size=3, strides=2,\n",
    "                padding='SAME', activation=Relu, name='convt_14')\n",
    "print(l8)\n",
    "l9 = conv2t(l8, filters=512, kernel_size=3, strides=2,\n",
    "                padding='SAME', activation=Relu, name='convt_28')\n",
    "print(l9)\n",
    "l10 = conv2t(l9, filters=256, kernel_size=3, strides=1,\n",
    "                padding='SAME', activation=Relu, name='convt_28.2')\n",
    "print(l10)\n",
    "l11 = conv2t(l10, filters=128, kernel_size=3, strides=2,\n",
    "                padding='SAME', activation=Relu, name='convt_56')\n",
    "print(l11)\n",
    "l12 = conv2t(l11, filters=64, kernel_size=3, strides=1,\n",
    "                padding='SAME', activation=Relu, name='convt_56.2')\n",
    "print(l12)\n",
    "l13 = conv2t(l12, filters=32, kernel_size=3, strides=2,\n",
    "                padding='SAME', activation=Relu, name='convt_112')\n",
    "print(l13)\n",
    "l14 = conv2t(l13, filters=final_C, kernel_size=3, strides=2,\n",
    "                padding='SAME', activation=Relu, name='OUTPUT')\n",
    "print(l14)"
   ]
  },
  {
   "cell_type": "markdown",
   "metadata": {},
   "source": [
    "***"
   ]
  },
  {
   "cell_type": "markdown",
   "metadata": {},
   "source": [
    "# Semantic-Segmentation Architecture\n"
   ]
  },
  {
   "cell_type": "markdown",
   "metadata": {},
   "source": [
    "![here](./semantic-seg-model.png)"
   ]
  },
  {
   "cell_type": "markdown",
   "metadata": {},
   "source": [
    "![here](../../../Pictures/Selection_005.png)"
   ]
  },
  {
   "cell_type": "code",
   "execution_count": 80,
   "metadata": {
    "collapsed": true
   },
   "outputs": [],
   "source": [
    "upsampleNN = tf.image.resize_nearest_neighbor\n",
    "mpool2 = tf.layers.max_pooling2d"
   ]
  },
  {
   "cell_type": "markdown",
   "metadata": {},
   "source": [
    "<font color=black size=3>\n",
    "Upsampling by Resizing is better than Transpose Convolution\n",
    "https://distill.pub/2016/deconv-checkerboard/\n",
    "</font>"
   ]
  },
  {
   "cell_type": "code",
   "execution_count": null,
   "metadata": {
    "collapsed": true
   },
   "outputs": [],
   "source": [
    "tf.reset_default_graph()\n",
    "input = tf.placeholder(shape=[None, 64, 64, 3], dtype=tf.float32)\n",
    "print(\"Input shape:\" + str(input.shape))\n",
    "##group 1 \n",
    "net = conv2(input, kernel_size=5, filters=64, strides=2, padding='SAME', activation=Relu, name='Conv_1.1')\n",
    "print(net)\n",
    "net = conv2(net, kernel_size=5, filters=64, strides=1, padding='SAME', activation=Relu, name='Conv_1.2')\n",
    "print(net)\n",
    "net = mpool2(net, pool_size=2, strides=2, padding='SAME', name='Pool_1')\n",
    "print(net)\n",
    "\n",
    "##group 2\n",
    "net = conv2(net, kernel_size=5, filters=64, strides=2, padding='SAME', activation=Relu, name='Conv_2.1')\n",
    "print(net)\n",
    "net = conv2(net, kernel_size=5, filters=64, strides=1, padding='SAME', activation=Relu, name='Conv_2.2')\n",
    "print(net)\n",
    "net = conv2(net, kernel_size=5, filters=64, strides=1, padding='SAME', activation=Relu, name='Conv_2.3')\n",
    "print(net)\n",
    "net = mpool2(net, pool_size=2, strides=2, padding='SAME', name='Pool_2')\n",
    "print(net)\n",
    "\n",
    "##group 5\n",
    "net = upsampleNN(net, size=(8,8), name='Upsample_Resizing_NN_1')\n",
    "print(net)\n",
    "net = conv2t(net, kernel_size=5, filters=64, strides=1, padding='SAME', activation=Relu, name='DConv_1.1')\n",
    "print(net)\n",
    "net = conv2t(net, kernel_size=5, filters=64, strides=1, padding='SAME', activation=Relu, name='DConv_1.2')\n",
    "print(net)\n",
    "net = conv2t(net, kernel_size=5, filters=64, strides=2, padding='SAME', activation=Relu, name='DConv_1.3')\n",
    "print(net)\n",
    "\n",
    "##group 6\n",
    "net = upsampleNN(net, size=(32,32), name='Upsample_Resizing_NN_2')\n",
    "print(net)\n",
    "net = conv2t(net, kernel_size=5, filters=64, strides=1, padding='SAME', activation=Relu, name='DConv_2.1')\n",
    "print(net)\n",
    "net = conv2t(net, kernel_size=5, filters=64, strides=2, padding='SAME', activation=Relu, name='DConv_2.2')\n",
    "print(net)\n",
    "\n",
    "print(\"Output shape:\" + str(net.shape))"
   ]
  }
 ],
 "metadata": {
  "kernelspec": {
   "display_name": "Python 3",
   "language": "python",
   "name": "python3"
  },
  "language_info": {
   "codemirror_mode": {
    "name": "ipython",
    "version": 3
   },
   "file_extension": ".py",
   "mimetype": "text/x-python",
   "name": "python",
   "nbconvert_exporter": "python",
   "pygments_lexer": "ipython3",
   "version": "3.6.3"
  }
 },
 "nbformat": 4,
 "nbformat_minor": 2
}
